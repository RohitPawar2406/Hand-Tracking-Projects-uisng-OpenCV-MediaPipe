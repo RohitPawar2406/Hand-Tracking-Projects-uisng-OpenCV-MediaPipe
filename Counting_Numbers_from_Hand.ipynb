{
 "cells": [
  {
   "cell_type": "code",
   "execution_count": 13,
   "metadata": {},
   "outputs": [],
   "source": [
    "import cv2\n",
    "import mediapipe as mp\n",
    "import time\n",
    "from ipynb.fs.full.Hand_Tracking_Module import HandDetector #pip install ipynb"
   ]
  },
  {
   "cell_type": "code",
   "execution_count": 14,
   "metadata": {},
   "outputs": [],
   "source": [
    "def main():\n",
    "    hand_object = HandDetector()\n",
    "    cap = cv2.VideoCapture(0)\n",
    "    tipIds = [4, 8, 12, 16, 20]\n",
    "    # FPS pre-define variables\n",
    "    pTime=cTime=0\n",
    "    while cap.isOpened():\n",
    "        success,img = cap.read()\n",
    "        img = hand_object.findHands(img)\n",
    "        lmlists= hand_object.findPosition(img)\n",
    "        if len(lmlists) != 0:\n",
    "            fingers=[]\n",
    "            # Thumb\n",
    "            if lmlists[tipIds[0]][1] > lmlists[tipIds[0] - 1][1]:\n",
    "                fingers.append(1)\n",
    "            else:\n",
    "                fingers.append(0)\n",
    "            # Checking Fingers If they are Up or Down\n",
    "            for id in range(1,5):\n",
    "                if lmlists[tipIds[id]][2] < lmlists[tipIds[id]-2][2]:\n",
    "                    fingers.append(1)\n",
    "                else:\n",
    "                    fingers.append(0)\n",
    "        \n",
    "            #print(fingers)\n",
    "            \n",
    "            cv2.putText(img,f'{fingers.count(1)}',(40,150),cv2.FONT_HERSHEY_COMPLEX,2,(0,255,0),3)\n",
    "        # FPS \n",
    "        cTime=time.time()\n",
    "        fps = 1/(cTime-pTime)\n",
    "        pTime=cTime\n",
    "    \n",
    "        cv2.putText(img,f'FPS:{int(fps)}',(40,70),cv2.FONT_HERSHEY_COMPLEX,2,(255,0,0),3)\n",
    "        \n",
    "    \n",
    "        cv2.imshow(\"Image\",img)\n",
    "        if cv2.waitKey(1) & 0xFF == ord('q'):\n",
    "            break\n",
    "    \n",
    "    cap.release()\n",
    "    cv2.destroyAllWindows()"
   ]
  },
  {
   "cell_type": "code",
   "execution_count": 16,
   "metadata": {},
   "outputs": [],
   "source": [
    "if __name__==\"__main__\":\n",
    "    main()"
   ]
  },
  {
   "cell_type": "code",
   "execution_count": null,
   "metadata": {},
   "outputs": [],
   "source": []
  }
 ],
 "metadata": {
  "kernelspec": {
   "display_name": "Python 3",
   "language": "python",
   "name": "python3"
  },
  "language_info": {
   "codemirror_mode": {
    "name": "ipython",
    "version": 3
   },
   "file_extension": ".py",
   "mimetype": "text/x-python",
   "name": "python",
   "nbconvert_exporter": "python",
   "pygments_lexer": "ipython3",
   "version": "3.8.3"
  }
 },
 "nbformat": 4,
 "nbformat_minor": 4
}
